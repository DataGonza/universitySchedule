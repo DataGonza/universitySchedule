{
 "cells": [
  {
   "cell_type": "markdown",
   "id": "5e4bab98-250e-4d24-856a-7ef8f2d980a7",
   "metadata": {},
   "source": [
    "# University Schedule\n",
    "## Objective \n",
    "This notebook has the objective to explore the problem and explain every step to resolve it. After of development of this, I'll implement it in a .py archive for simple execution.\n",
    "## The problem\n",
    "The most university in Ecuador has a system to matriculate students which consist of the next Logic:\n",
    "- Each class has multiple options in days and hours as well as different professors\n",
    "- Each class has prerequisites for taking it, if a student doesn't approve these requirements can't matriculate in it.\n",
    "- Each class has a maximum number of students.\n",
    "- At the start of all semesters or cycles, each student has multiple options for their classes and it is their work to match all classes to create their schedule.\n",
    "- Creating a schedule isn't all work because if the class is complete and the student couldn't matriculate in it, this schedule may be useless and It's necessary to use another.\n",
    "The search for the best schedule and some options is a tiring task and It may take several hours and generate much frustration.\n",
    "## The propuse solution\n",
    "The solution developed use the options of each class saved in .xls"
   ]
  },
  {
   "cell_type": "code",
   "execution_count": null,
   "id": "aedaedc1-01c8-4cbb-a902-c69103a905fb",
   "metadata": {},
   "outputs": [],
   "source": []
  }
 ],
 "metadata": {
  "kernelspec": {
   "display_name": "Python 3 (ipykernel)",
   "language": "python",
   "name": "python3"
  },
  "language_info": {
   "codemirror_mode": {
    "name": "ipython",
    "version": 3
   },
   "file_extension": ".py",
   "mimetype": "text/x-python",
   "name": "python",
   "nbconvert_exporter": "python",
   "pygments_lexer": "ipython3",
   "version": "3.8.5"
  }
 },
 "nbformat": 4,
 "nbformat_minor": 5
}
